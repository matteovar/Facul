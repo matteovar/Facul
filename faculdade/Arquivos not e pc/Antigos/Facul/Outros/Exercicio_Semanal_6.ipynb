{
  "nbformat": 4,
  "nbformat_minor": 0,
  "metadata": {
    "colab": {
      "name": "Exercicio_Semanal_6.ipynb",
      "provenance": [],
      "collapsed_sections": []
    },
    "kernelspec": {
      "name": "python3",
      "display_name": "Python 3"
    },
    "language_info": {
      "name": "python"
    }
  },
  "cells": [
    {
      "cell_type": "markdown",
      "metadata": {
        "id": "QjRYvDY-bPKw"
      },
      "source": [
        "# **BIS0005-15 - Bases computacionais da ciência - 3Q2021**\n",
        "\n",
        "## **Exercício semanal 6 -- 12/11/2021**\n",
        "## Entrega (pelo Moodle): até às 23h59 de 19/11/2021"
      ]
    },
    {
      "cell_type": "markdown",
      "metadata": {
        "id": "ZaRaZlR6cG_M"
      },
      "source": [
        "### Nome: \n",
        "### RA: "
      ]
    },
    {
      "cell_type": "markdown",
      "metadata": {
        "id": "AHYalctpe1r6"
      },
      "source": [
        "**Exercício 1**\n",
        "\n",
        "Neste exercício, iremos usar os conceitos de coeficiente de correlação e regressão polinomial. Para tanto, usaremos uma base de dados bastante conhecida e já disponível na biblioteca `scikit-learn` do Python denominada ***Boston Housing Dataset***.\n",
        "\n",
        "Os comandos abaixo servem para carregar a base de dados. A variável denominada `boston` contém a tabela com todos os dados necessários para o exercício."
      ]
    },
    {
      "cell_type": "code",
      "metadata": {
        "id": "yYdupbzxfUwC"
      },
      "source": [
        "# Importação das bibliotecas essenciais para o exercício\n",
        "import numpy as np\n",
        "import pandas as pd  \n",
        "import matplotlib.pyplot as plt \n",
        "%matplotlib inline\n",
        "\n",
        "# Comandos para carregar os dados e armazená-los na variável \"boston\".\n",
        "from sklearn.datasets import load_boston\n",
        "boston_dataset = load_boston()\n",
        "boston = pd.DataFrame(boston_dataset.data, columns=boston_dataset.feature_names)\n",
        "boston['MEDV'] = boston_dataset.target\n",
        "boston.head()"
      ],
      "execution_count": null,
      "outputs": []
    },
    {
      "cell_type": "markdown",
      "metadata": {
        "id": "zrG40wVFty6y"
      },
      "source": [
        "Para estes dados, determine os coeficientes de correlação entre os atributos \"LSTAT\" e \"MEDV\" e entre \"RM\" e \"MEDV\". Discuta os resultados.\n"
      ]
    },
    {
      "cell_type": "code",
      "metadata": {
        "id": "C2M16Mqfs0xC"
      },
      "source": [
        "# Insira seu código aqui.\n"
      ],
      "execution_count": null,
      "outputs": []
    },
    {
      "cell_type": "markdown",
      "metadata": {
        "id": "Q0BJElboun04"
      },
      "source": [
        "Faça agora um gráfico de dispersão de \"MED\" em função de \"LSTAT\". Determine também a reta de regressão e o coeficiente de determinação. Trace a reta de regressão junto ao gráfico de dispersão e discuta os resultados obtidos."
      ]
    },
    {
      "cell_type": "code",
      "metadata": {
        "id": "OIsAWfnUvXEE"
      },
      "source": [
        "# Insira seu código aqui.\n"
      ],
      "execution_count": null,
      "outputs": []
    },
    {
      "cell_type": "markdown",
      "metadata": {
        "id": "J80BgLlXvEy-"
      },
      "source": [
        "Repita o item anterior, mas considerando agora um gráfico de \"MEDV\" versus \"RM\"."
      ]
    },
    {
      "cell_type": "code",
      "metadata": {
        "id": "6lU-tnt6vzcT"
      },
      "source": [
        "# Insira seu código aqui.\n"
      ],
      "execution_count": null,
      "outputs": []
    },
    {
      "cell_type": "markdown",
      "metadata": {
        "id": "qdRZpolzw4HR"
      },
      "source": [
        "**Exercício 2**\n",
        "\n",
        "Usando apenas operações aritméticas básicas (não vale usar comandos prontos do Python) e estruturas de repetição, faça um programa para calcular $n!$, onde $n$ é um valor fornecido pelo usuário."
      ]
    },
    {
      "cell_type": "code",
      "metadata": {
        "id": "wcQWTUrYxqPE"
      },
      "source": [
        "# Insira seu código aqui.\n"
      ],
      "execution_count": null,
      "outputs": []
    },
    {
      "cell_type": "markdown",
      "metadata": {
        "id": "4Cq5NS77xs6g"
      },
      "source": [
        "**Exercício 3**\n",
        "\n",
        "Leia do teclado um número natural $n$. Em seguida, leia uma sequência de $n$\n",
        "números inteiros (um por vez) e determine a soma dos números inteiros positivos e a soma dos números não-positivos desta sequência."
      ]
    },
    {
      "cell_type": "code",
      "metadata": {
        "id": "VdJGSbaNx8Pl"
      },
      "source": [
        "# Insira aseu código aqui.\n"
      ],
      "execution_count": null,
      "outputs": []
    },
    {
      "cell_type": "markdown",
      "metadata": {
        "id": "r543ZYbPyr9i"
      },
      "source": [
        "**Exercício 4**\n",
        "\n",
        "Faça um programa que calcule a soma dos 50 primeiros termos da seguinte expressão:\n",
        "\n",
        "$\\frac{1000}{1} - \\frac{997}{2} + \\frac{994}{3} - \\frac{991}{4} + \\cdots$"
      ]
    },
    {
      "cell_type": "code",
      "metadata": {
        "id": "CFUwB5n3zJ82"
      },
      "source": [
        "# Insira seu código aqui.\n"
      ],
      "execution_count": null,
      "outputs": []
    },
    {
      "cell_type": "markdown",
      "metadata": {
        "id": "JxK0bA9rzYlI"
      },
      "source": [
        "**Exercício 5**\n",
        "\n",
        "A seguinte relação de recorrência nos fornece uma aproximação para $\\sqrt{2}$ :\n",
        "\n",
        "$x_{k + 1} = \\dfrac{x_k^2 + 2}{2 x_k}$,\n",
        "\n",
        "onde $k$ representa a $k$-ésima iteração da aproximação.\n",
        "\n",
        "Considerando $x_0 > 0$ e  $k \\geq 0$, faça um programa que leia um \"chute inicial\", $x_0$, e um\n",
        "número natural $n$ e mostre o resultado após $n$ iterações dessa relação de recorrência.\n"
      ]
    },
    {
      "cell_type": "code",
      "metadata": {
        "id": "2Q4AyS_t0fA3"
      },
      "source": [
        "# Insira seu código aqui.\n"
      ],
      "execution_count": null,
      "outputs": []
    }
  ]
}